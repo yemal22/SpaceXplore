{
 "cells": [
  {
   "cell_type": "markdown",
   "metadata": {},
   "source": [
    "<p style=\"text-align:center\">\n",
    "    <a href=\"https://skills.network\" target=\"_blank\">\n",
    "    <img src=\"https://cf-courses-data.s3.us.cloud-object-storage.appdomain.cloud/assets/logos/SN_web_lightmode.png\" width=\"200\" alt=\"Skills Network Logo\">\n",
    "    </a>\n",
    "</p>\n",
    "\n",
    "<h1 align=center><font size = 5>Assignment: SQL Notebook for Peer Assignment</font></h1>\n",
    "\n",
    "Estimated time needed: **60** minutes.\n",
    "\n",
    "## Introduction\n",
    "Using this Python notebook you will:\n",
    "\n",
    "1.  Understand the Spacex DataSet\n",
    "2.  Load the dataset  into the corresponding table in a Db2 database\n",
    "3.  Execute SQL queries to answer assignment questions \n"
   ]
  },
  {
   "cell_type": "markdown",
   "metadata": {},
   "source": [
    "## Overview of the DataSet\n",
    "\n",
    "SpaceX has gained worldwide attention for a series of historic milestones. \n",
    "\n",
    "It is the only private company ever to return a spacecraft from low-earth orbit, which it first accomplished in December 2010.\n",
    "SpaceX advertises Falcon 9 rocket launches on its website with a cost of 62 million dollars wheras other providers cost upward of 165 million dollars each, much of the savings is because Space X can reuse the first stage. \n",
    "\n",
    "\n",
    "Therefore if we can determine if the first stage will land, we can determine the cost of a launch. \n",
    "\n",
    "This information can be used if an alternate company wants to bid against SpaceX for a rocket launch.\n",
    "\n",
    "This dataset includes a record for each payload carried during a SpaceX mission into outer space.\n"
   ]
  },
  {
   "cell_type": "markdown",
   "metadata": {},
   "source": [
    "### Download the datasets\n",
    "\n",
    "This assignment requires you to load the spacex dataset.\n",
    "\n",
    "In many cases the dataset to be analyzed is available as a .CSV (comma separated values) file, perhaps on the internet. Click on the link below to download and save the dataset (.CSV file):\n",
    "\n",
    " <a href=\"https://cf-courses-data.s3.us.cloud-object-storage.appdomain.cloud/IBM-DS0321EN-SkillsNetwork/labs/module_2/data/Spacex.csv\" target=\"_blank\">Spacex DataSet</a>\n",
    "\n"
   ]
  },
  {
   "cell_type": "code",
   "execution_count": 1,
   "metadata": {},
   "outputs": [
    {
     "name": "stdout",
     "output_type": "stream",
     "text": [
      "Collecting sqlalchemy==1.3.9\n",
      "  Downloading SQLAlchemy-1.3.9.tar.gz (6.0 MB)\n",
      "     ---------------------------------------- 0.0/6.0 MB ? eta -:--:--\n",
      "     - -------------------------------------- 0.3/6.0 MB ? eta -:--:--\n",
      "     - -------------------------------------- 0.3/6.0 MB ? eta -:--:--\n",
      "     - -------------------------------------- 0.3/6.0 MB ? eta -:--:--\n",
      "     --- ------------------------------------ 0.5/6.0 MB 399.6 kB/s eta 0:00:14\n",
      "     --- ------------------------------------ 0.5/6.0 MB 399.6 kB/s eta 0:00:14\n",
      "     --- ------------------------------------ 0.5/6.0 MB 399.6 kB/s eta 0:00:14\n",
      "     --- ------------------------------------ 0.5/6.0 MB 399.6 kB/s eta 0:00:14\n",
      "     --- ------------------------------------ 0.5/6.0 MB 399.6 kB/s eta 0:00:14\n",
      "     ----- ---------------------------------- 0.8/6.0 MB 313.6 kB/s eta 0:00:17\n",
      "     ----- ---------------------------------- 0.8/6.0 MB 313.6 kB/s eta 0:00:17\n",
      "     ----- ---------------------------------- 0.8/6.0 MB 313.6 kB/s eta 0:00:17\n",
      "     ----- ---------------------------------- 0.8/6.0 MB 313.6 kB/s eta 0:00:17\n",
      "     ----- ---------------------------------- 0.8/6.0 MB 313.6 kB/s eta 0:00:17\n",
      "     ------- -------------------------------- 1.0/6.0 MB 281.2 kB/s eta 0:00:18\n",
      "     ------- -------------------------------- 1.0/6.0 MB 281.2 kB/s eta 0:00:18\n",
      "     ------- -------------------------------- 1.0/6.0 MB 281.2 kB/s eta 0:00:18\n",
      "     ------- -------------------------------- 1.0/6.0 MB 281.2 kB/s eta 0:00:18\n",
      "     ------- -------------------------------- 1.0/6.0 MB 281.2 kB/s eta 0:00:18\n",
      "     -------- ------------------------------- 1.3/6.0 MB 272.8 kB/s eta 0:00:18\n",
      "     -------- ------------------------------- 1.3/6.0 MB 272.8 kB/s eta 0:00:18\n",
      "     -------- ------------------------------- 1.3/6.0 MB 272.8 kB/s eta 0:00:18\n",
      "     -------- ------------------------------- 1.3/6.0 MB 272.8 kB/s eta 0:00:18\n",
      "     -------- ------------------------------- 1.3/6.0 MB 272.8 kB/s eta 0:00:18\n",
      "     ---------- ----------------------------- 1.6/6.0 MB 265.4 kB/s eta 0:00:17\n",
      "     ---------- ----------------------------- 1.6/6.0 MB 265.4 kB/s eta 0:00:17\n",
      "     ---------- ----------------------------- 1.6/6.0 MB 265.4 kB/s eta 0:00:17\n",
      "     ---------- ----------------------------- 1.6/6.0 MB 265.4 kB/s eta 0:00:17\n",
      "     ---------- ----------------------------- 1.6/6.0 MB 265.4 kB/s eta 0:00:17\n",
      "     ------------ --------------------------- 1.8/6.0 MB 262.1 kB/s eta 0:00:16\n",
      "     ------------ --------------------------- 1.8/6.0 MB 262.1 kB/s eta 0:00:16\n",
      "     ------------ --------------------------- 1.8/6.0 MB 262.1 kB/s eta 0:00:16\n",
      "     ------------ --------------------------- 1.8/6.0 MB 262.1 kB/s eta 0:00:16\n",
      "     ------------ --------------------------- 1.8/6.0 MB 262.1 kB/s eta 0:00:16\n",
      "     -------------- ------------------------- 2.1/6.0 MB 258.7 kB/s eta 0:00:15\n",
      "     -------------- ------------------------- 2.1/6.0 MB 258.7 kB/s eta 0:00:15\n",
      "     -------------- ------------------------- 2.1/6.0 MB 258.7 kB/s eta 0:00:15\n",
      "     -------------- ------------------------- 2.1/6.0 MB 258.7 kB/s eta 0:00:15\n",
      "     -------------- ------------------------- 2.1/6.0 MB 258.7 kB/s eta 0:00:15\n",
      "     --------------- ------------------------ 2.4/6.0 MB 260.1 kB/s eta 0:00:14\n",
      "     --------------- ------------------------ 2.4/6.0 MB 260.1 kB/s eta 0:00:14\n",
      "     --------------- ------------------------ 2.4/6.0 MB 260.1 kB/s eta 0:00:14\n",
      "     --------------- ------------------------ 2.4/6.0 MB 260.1 kB/s eta 0:00:14\n",
      "     --------------- ------------------------ 2.4/6.0 MB 260.1 kB/s eta 0:00:14\n",
      "     --------------- ------------------------ 2.4/6.0 MB 260.1 kB/s eta 0:00:14\n",
      "     --------------- ------------------------ 2.4/6.0 MB 260.1 kB/s eta 0:00:14\n",
      "     ----------------- ---------------------- 2.6/6.0 MB 244.3 kB/s eta 0:00:14\n",
      "     ----------------- ---------------------- 2.6/6.0 MB 244.3 kB/s eta 0:00:14\n",
      "     ----------------- ---------------------- 2.6/6.0 MB 244.3 kB/s eta 0:00:14\n",
      "     ----------------- ---------------------- 2.6/6.0 MB 244.3 kB/s eta 0:00:14\n",
      "     ------------------- -------------------- 2.9/6.0 MB 251.1 kB/s eta 0:00:13\n",
      "     ------------------- -------------------- 2.9/6.0 MB 251.1 kB/s eta 0:00:13\n",
      "     ------------------- -------------------- 2.9/6.0 MB 251.1 kB/s eta 0:00:13\n",
      "     ------------------- -------------------- 2.9/6.0 MB 251.1 kB/s eta 0:00:13\n",
      "     --------------------- ------------------ 3.1/6.0 MB 251.8 kB/s eta 0:00:12\n",
      "     --------------------- ------------------ 3.1/6.0 MB 251.8 kB/s eta 0:00:12\n",
      "     --------------------- ------------------ 3.1/6.0 MB 251.8 kB/s eta 0:00:12\n",
      "     --------------------- ------------------ 3.1/6.0 MB 251.8 kB/s eta 0:00:12\n",
      "     --------------------- ------------------ 3.1/6.0 MB 251.8 kB/s eta 0:00:12\n",
      "     ---------------------- ----------------- 3.4/6.0 MB 250.4 kB/s eta 0:00:11\n",
      "     ---------------------- ----------------- 3.4/6.0 MB 250.4 kB/s eta 0:00:11\n",
      "     ---------------------- ----------------- 3.4/6.0 MB 250.4 kB/s eta 0:00:11\n",
      "     ---------------------- ----------------- 3.4/6.0 MB 250.4 kB/s eta 0:00:11\n",
      "     ---------------------- ----------------- 3.4/6.0 MB 250.4 kB/s eta 0:00:11\n",
      "     ---------------------- ----------------- 3.4/6.0 MB 250.4 kB/s eta 0:00:11\n",
      "     ---------------------- ----------------- 3.4/6.0 MB 250.4 kB/s eta 0:00:11\n",
      "     ------------------------ --------------- 3.7/6.0 MB 244.2 kB/s eta 0:00:10\n",
      "     ------------------------ --------------- 3.7/6.0 MB 244.2 kB/s eta 0:00:10\n",
      "     ------------------------ --------------- 3.7/6.0 MB 244.2 kB/s eta 0:00:10\n",
      "     ------------------------ --------------- 3.7/6.0 MB 244.2 kB/s eta 0:00:10\n",
      "     -------------------------- ------------- 3.9/6.0 MB 246.5 kB/s eta 0:00:09\n",
      "     -------------------------- ------------- 3.9/6.0 MB 246.5 kB/s eta 0:00:09\n",
      "     -------------------------- ------------- 3.9/6.0 MB 246.5 kB/s eta 0:00:09\n",
      "     -------------------------- ------------- 3.9/6.0 MB 246.5 kB/s eta 0:00:09\n",
      "     -------------------------- ------------- 3.9/6.0 MB 246.5 kB/s eta 0:00:09\n",
      "     ---------------------------- ----------- 4.2/6.0 MB 247.2 kB/s eta 0:00:08\n",
      "     ---------------------------- ----------- 4.2/6.0 MB 247.2 kB/s eta 0:00:08\n",
      "     ---------------------------- ----------- 4.2/6.0 MB 247.2 kB/s eta 0:00:08\n",
      "     ---------------------------- ----------- 4.2/6.0 MB 247.2 kB/s eta 0:00:08\n",
      "     ---------------------------- ----------- 4.2/6.0 MB 247.2 kB/s eta 0:00:08\n",
      "     ----------------------------- ---------- 4.5/6.0 MB 247.0 kB/s eta 0:00:07\n",
      "     ----------------------------- ---------- 4.5/6.0 MB 247.0 kB/s eta 0:00:07\n",
      "     ----------------------------- ---------- 4.5/6.0 MB 247.0 kB/s eta 0:00:07\n",
      "     ----------------------------- ---------- 4.5/6.0 MB 247.0 kB/s eta 0:00:07\n",
      "     ----------------------------- ---------- 4.5/6.0 MB 247.0 kB/s eta 0:00:07\n",
      "     ------------------------------- -------- 4.7/6.0 MB 246.5 kB/s eta 0:00:06\n",
      "     ------------------------------- -------- 4.7/6.0 MB 246.5 kB/s eta 0:00:06\n",
      "     ------------------------------- -------- 4.7/6.0 MB 246.5 kB/s eta 0:00:06\n",
      "     ------------------------------- -------- 4.7/6.0 MB 246.5 kB/s eta 0:00:06\n",
      "     ------------------------------- -------- 4.7/6.0 MB 246.5 kB/s eta 0:00:06\n",
      "     --------------------------------- ------ 5.0/6.0 MB 247.1 kB/s eta 0:00:04\n",
      "     --------------------------------- ------ 5.0/6.0 MB 247.1 kB/s eta 0:00:04\n",
      "     --------------------------------- ------ 5.0/6.0 MB 247.1 kB/s eta 0:00:04\n",
      "     --------------------------------- ------ 5.0/6.0 MB 247.1 kB/s eta 0:00:04\n",
      "     --------------------------------- ------ 5.0/6.0 MB 247.1 kB/s eta 0:00:04\n",
      "     ----------------------------------- ---- 5.2/6.0 MB 246.0 kB/s eta 0:00:03\n",
      "     ----------------------------------- ---- 5.2/6.0 MB 246.0 kB/s eta 0:00:03\n",
      "     ----------------------------------- ---- 5.2/6.0 MB 246.0 kB/s eta 0:00:03\n",
      "     ----------------------------------- ---- 5.2/6.0 MB 246.0 kB/s eta 0:00:03\n",
      "     ----------------------------------- ---- 5.2/6.0 MB 246.0 kB/s eta 0:00:03\n",
      "     ------------------------------------ --- 5.5/6.0 MB 246.5 kB/s eta 0:00:02\n",
      "     ------------------------------------ --- 5.5/6.0 MB 246.5 kB/s eta 0:00:02\n",
      "     ------------------------------------ --- 5.5/6.0 MB 246.5 kB/s eta 0:00:02\n",
      "     ------------------------------------ --- 5.5/6.0 MB 246.5 kB/s eta 0:00:02\n",
      "     ------------------------------------ --- 5.5/6.0 MB 246.5 kB/s eta 0:00:02\n",
      "     -------------------------------------- - 5.8/6.0 MB 246.4 kB/s eta 0:00:01\n",
      "     -------------------------------------- - 5.8/6.0 MB 246.4 kB/s eta 0:00:01\n",
      "     -------------------------------------- - 5.8/6.0 MB 246.4 kB/s eta 0:00:01\n",
      "     -------------------------------------- - 5.8/6.0 MB 246.4 kB/s eta 0:00:01\n",
      "     -------------------------------------- - 5.8/6.0 MB 246.4 kB/s eta 0:00:01\n",
      "     ---------------------------------------- 6.0/6.0 MB 244.5 kB/s eta 0:00:00\n",
      "  Preparing metadata (setup.py): started\n",
      "  Preparing metadata (setup.py): finished with status 'done'\n",
      "Building wheels for collected packages: sqlalchemy\n",
      "  Building wheel for sqlalchemy (setup.py): started\n",
      "  Building wheel for sqlalchemy (setup.py): finished with status 'done'\n",
      "  Created wheel for sqlalchemy: filename=SQLAlchemy-1.3.9-cp312-cp312-win_amd64.whl size=1142950 sha256=12c6840c8ab9320cc06c7ee26f489a28268234bb7d5a6d24d6129f5d90b17cac\n",
      "  Stored in directory: c:\\users\\morel\\appdata\\local\\pip\\cache\\wheels\\b3\\1c\\42\\0e26b8d512adc6bce10ff71a05229366b4ccec641cd3b42111\n",
      "Successfully built sqlalchemy\n",
      "Installing collected packages: sqlalchemy\n",
      "  Attempting uninstall: sqlalchemy\n",
      "    Found existing installation: SQLAlchemy 2.0.34\n",
      "    Uninstalling SQLAlchemy-2.0.34:\n",
      "      Successfully uninstalled SQLAlchemy-2.0.34\n",
      "Successfully installed sqlalchemy-1.3.9\n"
     ]
    },
    {
     "name": "stderr",
     "output_type": "stream",
     "text": [
      "ERROR: pip's dependency resolver does not currently take into account all the packages that are installed. This behaviour is the source of the following dependency conflicts.\n",
      "aext-project-filebrowser-server 4.1.0 requires sqlalchemy>=2.0.29, but you have sqlalchemy 1.3.9 which is incompatible.\n"
     ]
    }
   ],
   "source": [
    "!pip install sqlalchemy==1.3.9\n"
   ]
  },
  {
   "cell_type": "markdown",
   "metadata": {},
   "source": [
    "### Connect to the database\n",
    "\n",
    "Let us first load the SQL extension and establish a connection with the database\n"
   ]
  },
  {
   "cell_type": "code",
   "execution_count": 2,
   "metadata": {},
   "outputs": [
    {
     "name": "stdout",
     "output_type": "stream",
     "text": [
      "Collecting ipython-sql\n",
      "  Downloading ipython_sql-0.5.0-py3-none-any.whl.metadata (17 kB)\n",
      "Collecting prettytable (from ipython-sql)\n",
      "  Downloading prettytable-3.14.0-py3-none-any.whl.metadata (30 kB)\n",
      "Requirement already satisfied: ipython in c:\\users\\morel\\anaconda3\\lib\\site-packages (from ipython-sql) (8.27.0)\n",
      "Collecting sqlalchemy>=2.0 (from ipython-sql)\n",
      "  Downloading SQLAlchemy-2.0.38-cp312-cp312-win_amd64.whl.metadata (9.9 kB)\n",
      "Collecting sqlparse (from ipython-sql)\n",
      "  Downloading sqlparse-0.5.3-py3-none-any.whl.metadata (3.9 kB)\n",
      "Requirement already satisfied: six in c:\\users\\morel\\anaconda3\\lib\\site-packages (from ipython-sql) (1.16.0)\n",
      "Requirement already satisfied: ipython-genutils in c:\\users\\morel\\anaconda3\\lib\\site-packages (from ipython-sql) (0.2.0)\n",
      "Requirement already satisfied: greenlet!=0.4.17 in c:\\users\\morel\\anaconda3\\lib\\site-packages (from sqlalchemy>=2.0->ipython-sql) (3.0.1)\n",
      "Requirement already satisfied: typing-extensions>=4.6.0 in c:\\users\\morel\\anaconda3\\lib\\site-packages (from sqlalchemy>=2.0->ipython-sql) (4.11.0)\n",
      "Requirement already satisfied: decorator in c:\\users\\morel\\anaconda3\\lib\\site-packages (from ipython->ipython-sql) (5.1.1)\n",
      "Requirement already satisfied: jedi>=0.16 in c:\\users\\morel\\anaconda3\\lib\\site-packages (from ipython->ipython-sql) (0.19.1)\n",
      "Requirement already satisfied: matplotlib-inline in c:\\users\\morel\\anaconda3\\lib\\site-packages (from ipython->ipython-sql) (0.1.6)\n",
      "Requirement already satisfied: prompt-toolkit<3.1.0,>=3.0.41 in c:\\users\\morel\\anaconda3\\lib\\site-packages (from ipython->ipython-sql) (3.0.43)\n",
      "Requirement already satisfied: pygments>=2.4.0 in c:\\users\\morel\\anaconda3\\lib\\site-packages (from ipython->ipython-sql) (2.15.1)\n",
      "Requirement already satisfied: stack-data in c:\\users\\morel\\anaconda3\\lib\\site-packages (from ipython->ipython-sql) (0.2.0)\n",
      "Requirement already satisfied: traitlets>=5.13.0 in c:\\users\\morel\\anaconda3\\lib\\site-packages (from ipython->ipython-sql) (5.14.3)\n",
      "Requirement already satisfied: colorama in c:\\users\\morel\\anaconda3\\lib\\site-packages (from ipython->ipython-sql) (0.4.6)\n",
      "Requirement already satisfied: wcwidth in c:\\users\\morel\\anaconda3\\lib\\site-packages (from prettytable->ipython-sql) (0.2.5)\n",
      "Requirement already satisfied: parso<0.9.0,>=0.8.3 in c:\\users\\morel\\anaconda3\\lib\\site-packages (from jedi>=0.16->ipython->ipython-sql) (0.8.3)\n",
      "Requirement already satisfied: executing in c:\\users\\morel\\anaconda3\\lib\\site-packages (from stack-data->ipython->ipython-sql) (0.8.3)\n",
      "Requirement already satisfied: asttokens in c:\\users\\morel\\anaconda3\\lib\\site-packages (from stack-data->ipython->ipython-sql) (2.0.5)\n",
      "Requirement already satisfied: pure-eval in c:\\users\\morel\\anaconda3\\lib\\site-packages (from stack-data->ipython->ipython-sql) (0.2.2)\n",
      "Downloading ipython_sql-0.5.0-py3-none-any.whl (20 kB)\n",
      "Downloading SQLAlchemy-2.0.38-cp312-cp312-win_amd64.whl (2.1 MB)\n",
      "   ---------------------------------------- 0.0/2.1 MB ? eta -:--:--\n",
      "   ---------------------------------------- 0.0/2.1 MB ? eta -:--:--\n",
      "   ---- ----------------------------------- 0.3/2.1 MB ? eta -:--:--\n",
      "   ---- ----------------------------------- 0.3/2.1 MB ? eta -:--:--\n",
      "   --------- ------------------------------ 0.5/2.1 MB 558.9 kB/s eta 0:00:03\n",
      "   --------- ------------------------------ 0.5/2.1 MB 558.9 kB/s eta 0:00:03\n",
      "   --------- ------------------------------ 0.5/2.1 MB 558.9 kB/s eta 0:00:03\n",
      "   --------- ------------------------------ 0.5/2.1 MB 558.9 kB/s eta 0:00:03\n",
      "   -------------- ------------------------- 0.8/2.1 MB 349.5 kB/s eta 0:00:04\n",
      "   -------------- ------------------------- 0.8/2.1 MB 349.5 kB/s eta 0:00:04\n",
      "   -------------- ------------------------- 0.8/2.1 MB 349.5 kB/s eta 0:00:04\n",
      "   -------------- ------------------------- 0.8/2.1 MB 349.5 kB/s eta 0:00:04\n",
      "   -------------- ------------------------- 0.8/2.1 MB 349.5 kB/s eta 0:00:04\n",
      "   -------------- ------------------------- 0.8/2.1 MB 349.5 kB/s eta 0:00:04\n",
      "   ------------------- -------------------- 1.0/2.1 MB 290.9 kB/s eta 0:00:04\n",
      "   ------------------- -------------------- 1.0/2.1 MB 290.9 kB/s eta 0:00:04\n",
      "   ------------------- -------------------- 1.0/2.1 MB 290.9 kB/s eta 0:00:04\n",
      "   ------------------- -------------------- 1.0/2.1 MB 290.9 kB/s eta 0:00:04\n",
      "   ------------------- -------------------- 1.0/2.1 MB 290.9 kB/s eta 0:00:04\n",
      "   ------------------------ --------------- 1.3/2.1 MB 282.0 kB/s eta 0:00:03\n",
      "   ------------------------ --------------- 1.3/2.1 MB 282.0 kB/s eta 0:00:03\n",
      "   ------------------------ --------------- 1.3/2.1 MB 282.0 kB/s eta 0:00:03\n",
      "   ------------------------ --------------- 1.3/2.1 MB 282.0 kB/s eta 0:00:03\n",
      "   ------------------------ --------------- 1.3/2.1 MB 282.0 kB/s eta 0:00:03\n",
      "   ----------------------------- ---------- 1.6/2.1 MB 274.2 kB/s eta 0:00:02\n",
      "   ----------------------------- ---------- 1.6/2.1 MB 274.2 kB/s eta 0:00:02\n",
      "   ----------------------------- ---------- 1.6/2.1 MB 274.2 kB/s eta 0:00:02\n",
      "   ----------------------------- ---------- 1.6/2.1 MB 274.2 kB/s eta 0:00:02\n",
      "   ----------------------------- ---------- 1.6/2.1 MB 274.2 kB/s eta 0:00:02\n",
      "   ---------------------------------- ----- 1.8/2.1 MB 267.0 kB/s eta 0:00:01\n",
      "   ---------------------------------- ----- 1.8/2.1 MB 267.0 kB/s eta 0:00:01\n",
      "   ---------------------------------- ----- 1.8/2.1 MB 267.0 kB/s eta 0:00:01\n",
      "   ---------------------------------- ----- 1.8/2.1 MB 267.0 kB/s eta 0:00:01\n",
      "   ---------------------------------------  2.1/2.1 MB 268.1 kB/s eta 0:00:01\n",
      "   ---------------------------------------- 2.1/2.1 MB 265.1 kB/s eta 0:00:00\n",
      "Downloading prettytable-3.14.0-py3-none-any.whl (31 kB)\n",
      "Downloading sqlparse-0.5.3-py3-none-any.whl (44 kB)\n",
      "Installing collected packages: sqlparse, sqlalchemy, prettytable, ipython-sql\n",
      "  Attempting uninstall: sqlalchemy\n",
      "    Found existing installation: SQLAlchemy 1.3.9\n",
      "    Uninstalling SQLAlchemy-1.3.9:\n",
      "      Successfully uninstalled SQLAlchemy-1.3.9\n",
      "Successfully installed ipython-sql-0.5.0 prettytable-3.14.0 sqlalchemy-2.0.38 sqlparse-0.5.3\n",
      "Requirement already satisfied: ipython-sql in c:\\users\\morel\\anaconda3\\lib\\site-packages (0.5.0)\n",
      "Requirement already satisfied: prettytable in c:\\users\\morel\\anaconda3\\lib\\site-packages (3.14.0)\n",
      "Requirement already satisfied: ipython in c:\\users\\morel\\anaconda3\\lib\\site-packages (from ipython-sql) (8.27.0)\n",
      "Requirement already satisfied: sqlalchemy>=2.0 in c:\\users\\morel\\anaconda3\\lib\\site-packages (from ipython-sql) (2.0.38)\n",
      "Requirement already satisfied: sqlparse in c:\\users\\morel\\anaconda3\\lib\\site-packages (from ipython-sql) (0.5.3)\n",
      "Requirement already satisfied: six in c:\\users\\morel\\anaconda3\\lib\\site-packages (from ipython-sql) (1.16.0)\n",
      "Requirement already satisfied: ipython-genutils in c:\\users\\morel\\anaconda3\\lib\\site-packages (from ipython-sql) (0.2.0)\n",
      "Requirement already satisfied: wcwidth in c:\\users\\morel\\anaconda3\\lib\\site-packages (from prettytable) (0.2.5)\n",
      "Requirement already satisfied: greenlet!=0.4.17 in c:\\users\\morel\\anaconda3\\lib\\site-packages (from sqlalchemy>=2.0->ipython-sql) (3.0.1)\n",
      "Requirement already satisfied: typing-extensions>=4.6.0 in c:\\users\\morel\\anaconda3\\lib\\site-packages (from sqlalchemy>=2.0->ipython-sql) (4.11.0)\n",
      "Requirement already satisfied: decorator in c:\\users\\morel\\anaconda3\\lib\\site-packages (from ipython->ipython-sql) (5.1.1)\n",
      "Requirement already satisfied: jedi>=0.16 in c:\\users\\morel\\anaconda3\\lib\\site-packages (from ipython->ipython-sql) (0.19.1)\n",
      "Requirement already satisfied: matplotlib-inline in c:\\users\\morel\\anaconda3\\lib\\site-packages (from ipython->ipython-sql) (0.1.6)\n",
      "Requirement already satisfied: prompt-toolkit<3.1.0,>=3.0.41 in c:\\users\\morel\\anaconda3\\lib\\site-packages (from ipython->ipython-sql) (3.0.43)\n",
      "Requirement already satisfied: pygments>=2.4.0 in c:\\users\\morel\\anaconda3\\lib\\site-packages (from ipython->ipython-sql) (2.15.1)\n",
      "Requirement already satisfied: stack-data in c:\\users\\morel\\anaconda3\\lib\\site-packages (from ipython->ipython-sql) (0.2.0)\n",
      "Requirement already satisfied: traitlets>=5.13.0 in c:\\users\\morel\\anaconda3\\lib\\site-packages (from ipython->ipython-sql) (5.14.3)\n",
      "Requirement already satisfied: colorama in c:\\users\\morel\\anaconda3\\lib\\site-packages (from ipython->ipython-sql) (0.4.6)\n",
      "Requirement already satisfied: parso<0.9.0,>=0.8.3 in c:\\users\\morel\\anaconda3\\lib\\site-packages (from jedi>=0.16->ipython->ipython-sql) (0.8.3)\n",
      "Requirement already satisfied: executing in c:\\users\\morel\\anaconda3\\lib\\site-packages (from stack-data->ipython->ipython-sql) (0.8.3)\n",
      "Requirement already satisfied: asttokens in c:\\users\\morel\\anaconda3\\lib\\site-packages (from stack-data->ipython->ipython-sql) (2.0.5)\n",
      "Requirement already satisfied: pure-eval in c:\\users\\morel\\anaconda3\\lib\\site-packages (from stack-data->ipython->ipython-sql) (0.2.2)\n"
     ]
    }
   ],
   "source": [
    "!pip install ipython-sql\n",
    "!pip install ipython-sql prettytable"
   ]
  },
  {
   "cell_type": "code",
   "execution_count": 3,
   "metadata": {},
   "outputs": [],
   "source": [
    "%load_ext sql"
   ]
  },
  {
   "cell_type": "code",
   "execution_count": 4,
   "metadata": {},
   "outputs": [],
   "source": [
    "import csv, sqlite3\n",
    "import prettytable\n",
    "prettytable.DEFAULT = 'DEFAULT'\n",
    "\n",
    "con = sqlite3.connect(\"my_data1.db\")\n",
    "cur = con.cursor()"
   ]
  },
  {
   "cell_type": "code",
   "execution_count": 5,
   "metadata": {},
   "outputs": [],
   "source": [
    "!pip install -q pandas"
   ]
  },
  {
   "cell_type": "code",
   "execution_count": 5,
   "metadata": {},
   "outputs": [],
   "source": [
    "%sql sqlite:///my_data1.db"
   ]
  },
  {
   "cell_type": "code",
   "execution_count": 6,
   "metadata": {},
   "outputs": [
    {
     "data": {
      "text/plain": [
       "101"
      ]
     },
     "execution_count": 6,
     "metadata": {},
     "output_type": "execute_result"
    }
   ],
   "source": [
    "import pandas as pd\n",
    "df = pd.read_csv(\"https://cf-courses-data.s3.us.cloud-object-storage.appdomain.cloud/IBM-DS0321EN-SkillsNetwork/labs/module_2/data/Spacex.csv\")\n",
    "df.to_sql(\"SPACEXTBL\", con, if_exists=\"replace\", index=False, method=\"multi\")"
   ]
  },
  {
   "cell_type": "markdown",
   "metadata": {},
   "source": [
    "**Note:This below code is added to remove blank rows from table**\n"
   ]
  },
  {
   "cell_type": "code",
   "execution_count": 7,
   "metadata": {},
   "outputs": [
    {
     "name": "stdout",
     "output_type": "stream",
     "text": [
      " * sqlite:///my_data1.db\n",
      "Done.\n"
     ]
    },
    {
     "data": {
      "text/plain": [
       "[]"
      ]
     },
     "execution_count": 7,
     "metadata": {},
     "output_type": "execute_result"
    }
   ],
   "source": [
    "#DROP THE TABLE IF EXISTS\n",
    "\n",
    "%sql DROP TABLE IF EXISTS SPACEXTABLE;"
   ]
  },
  {
   "cell_type": "code",
   "execution_count": 8,
   "metadata": {},
   "outputs": [
    {
     "name": "stdout",
     "output_type": "stream",
     "text": [
      " * sqlite:///my_data1.db\n",
      "Done.\n"
     ]
    },
    {
     "data": {
      "text/plain": [
       "[]"
      ]
     },
     "execution_count": 8,
     "metadata": {},
     "output_type": "execute_result"
    }
   ],
   "source": [
    "%sql create table SPACEXTABLE as select * from SPACEXTBL where Date is not null"
   ]
  },
  {
   "cell_type": "markdown",
   "metadata": {},
   "source": [
    "## Tasks\n",
    "\n",
    "Now write and execute SQL queries to solve the assignment tasks.\n",
    "\n",
    "**Note: If the column names are in mixed case enclose it in double quotes\n",
    "   For Example \"Landing_Outcome\"**\n",
    "\n",
    "### Task 1\n",
    "\n",
    "\n",
    "\n",
    "\n",
    "##### Display the names of the unique launch sites  in the space mission\n"
   ]
  },
  {
   "cell_type": "code",
   "execution_count": 10,
   "metadata": {},
   "outputs": [
    {
     "name": "stdout",
     "output_type": "stream",
     "text": [
      " * sqlite:///my_data1.db\n",
      "Done.\n"
     ]
    },
    {
     "data": {
      "text/html": [
       "<table>\n",
       "    <thead>\n",
       "        <tr>\n",
       "            <th>Launch_Site</th>\n",
       "        </tr>\n",
       "    </thead>\n",
       "    <tbody>\n",
       "        <tr>\n",
       "            <td>CCAFS LC-40</td>\n",
       "        </tr>\n",
       "        <tr>\n",
       "            <td>VAFB SLC-4E</td>\n",
       "        </tr>\n",
       "        <tr>\n",
       "            <td>KSC LC-39A</td>\n",
       "        </tr>\n",
       "        <tr>\n",
       "            <td>CCAFS SLC-40</td>\n",
       "        </tr>\n",
       "    </tbody>\n",
       "</table>"
      ],
      "text/plain": [
       "[('CCAFS LC-40',), ('VAFB SLC-4E',), ('KSC LC-39A',), ('CCAFS SLC-40',)]"
      ]
     },
     "execution_count": 10,
     "metadata": {},
     "output_type": "execute_result"
    }
   ],
   "source": [
    "%%sql\n",
    "SELECT DISTINCT Launch_Site FROM SPACEXTABLE;"
   ]
  },
  {
   "cell_type": "markdown",
   "metadata": {},
   "source": [
    "\n",
    "### Task 2\n",
    "\n",
    "\n",
    "#####  Display 5 records where launch sites begin with the string 'CCA' \n"
   ]
  },
  {
   "cell_type": "code",
   "execution_count": 12,
   "metadata": {},
   "outputs": [
    {
     "name": "stdout",
     "output_type": "stream",
     "text": [
      " * sqlite:///my_data1.db\n",
      "Done.\n"
     ]
    },
    {
     "data": {
      "text/html": [
       "<table>\n",
       "    <thead>\n",
       "        <tr>\n",
       "            <th>Date</th>\n",
       "            <th>Time (UTC)</th>\n",
       "            <th>Booster_Version</th>\n",
       "            <th>Launch_Site</th>\n",
       "            <th>Payload</th>\n",
       "            <th>PAYLOAD_MASS__KG_</th>\n",
       "            <th>Orbit</th>\n",
       "            <th>Customer</th>\n",
       "            <th>Mission_Outcome</th>\n",
       "            <th>Landing_Outcome</th>\n",
       "        </tr>\n",
       "    </thead>\n",
       "    <tbody>\n",
       "        <tr>\n",
       "            <td>2010-06-04</td>\n",
       "            <td>18:45:00</td>\n",
       "            <td>F9 v1.0  B0003</td>\n",
       "            <td>CCAFS LC-40</td>\n",
       "            <td>Dragon Spacecraft Qualification Unit</td>\n",
       "            <td>0</td>\n",
       "            <td>LEO</td>\n",
       "            <td>SpaceX</td>\n",
       "            <td>Success</td>\n",
       "            <td>Failure (parachute)</td>\n",
       "        </tr>\n",
       "        <tr>\n",
       "            <td>2010-12-08</td>\n",
       "            <td>15:43:00</td>\n",
       "            <td>F9 v1.0  B0004</td>\n",
       "            <td>CCAFS LC-40</td>\n",
       "            <td>Dragon demo flight C1, two CubeSats, barrel of Brouere cheese</td>\n",
       "            <td>0</td>\n",
       "            <td>LEO (ISS)</td>\n",
       "            <td>NASA (COTS) NRO</td>\n",
       "            <td>Success</td>\n",
       "            <td>Failure (parachute)</td>\n",
       "        </tr>\n",
       "        <tr>\n",
       "            <td>2012-05-22</td>\n",
       "            <td>7:44:00</td>\n",
       "            <td>F9 v1.0  B0005</td>\n",
       "            <td>CCAFS LC-40</td>\n",
       "            <td>Dragon demo flight C2</td>\n",
       "            <td>525</td>\n",
       "            <td>LEO (ISS)</td>\n",
       "            <td>NASA (COTS)</td>\n",
       "            <td>Success</td>\n",
       "            <td>No attempt</td>\n",
       "        </tr>\n",
       "        <tr>\n",
       "            <td>2012-10-08</td>\n",
       "            <td>0:35:00</td>\n",
       "            <td>F9 v1.0  B0006</td>\n",
       "            <td>CCAFS LC-40</td>\n",
       "            <td>SpaceX CRS-1</td>\n",
       "            <td>500</td>\n",
       "            <td>LEO (ISS)</td>\n",
       "            <td>NASA (CRS)</td>\n",
       "            <td>Success</td>\n",
       "            <td>No attempt</td>\n",
       "        </tr>\n",
       "        <tr>\n",
       "            <td>2013-03-01</td>\n",
       "            <td>15:10:00</td>\n",
       "            <td>F9 v1.0  B0007</td>\n",
       "            <td>CCAFS LC-40</td>\n",
       "            <td>SpaceX CRS-2</td>\n",
       "            <td>677</td>\n",
       "            <td>LEO (ISS)</td>\n",
       "            <td>NASA (CRS)</td>\n",
       "            <td>Success</td>\n",
       "            <td>No attempt</td>\n",
       "        </tr>\n",
       "    </tbody>\n",
       "</table>"
      ],
      "text/plain": [
       "[('2010-06-04', '18:45:00', 'F9 v1.0  B0003', 'CCAFS LC-40', 'Dragon Spacecraft Qualification Unit', 0, 'LEO', 'SpaceX', 'Success', 'Failure (parachute)'),\n",
       " ('2010-12-08', '15:43:00', 'F9 v1.0  B0004', 'CCAFS LC-40', 'Dragon demo flight C1, two CubeSats, barrel of Brouere cheese', 0, 'LEO (ISS)', 'NASA (COTS) NRO', 'Success', 'Failure (parachute)'),\n",
       " ('2012-05-22', '7:44:00', 'F9 v1.0  B0005', 'CCAFS LC-40', 'Dragon demo flight C2', 525, 'LEO (ISS)', 'NASA (COTS)', 'Success', 'No attempt'),\n",
       " ('2012-10-08', '0:35:00', 'F9 v1.0  B0006', 'CCAFS LC-40', 'SpaceX CRS-1', 500, 'LEO (ISS)', 'NASA (CRS)', 'Success', 'No attempt'),\n",
       " ('2013-03-01', '15:10:00', 'F9 v1.0  B0007', 'CCAFS LC-40', 'SpaceX CRS-2', 677, 'LEO (ISS)', 'NASA (CRS)', 'Success', 'No attempt')]"
      ]
     },
     "execution_count": 12,
     "metadata": {},
     "output_type": "execute_result"
    }
   ],
   "source": [
    "%%sql\n",
    "SELECT * FROM SPACEXTABLE WHERE Launch_Site LIKE 'CCA%' LIMIT 5;"
   ]
  },
  {
   "cell_type": "markdown",
   "metadata": {},
   "source": [
    "### Task 3\n",
    "\n",
    "\n",
    "\n",
    "\n",
    "##### Display the total payload mass carried by boosters launched by NASA (CRS)\n"
   ]
  },
  {
   "cell_type": "code",
   "execution_count": 15,
   "metadata": {},
   "outputs": [
    {
     "name": "stdout",
     "output_type": "stream",
     "text": [
      " * sqlite:///my_data1.db\n",
      "Done.\n"
     ]
    },
    {
     "data": {
      "text/html": [
       "<table>\n",
       "    <thead>\n",
       "        <tr>\n",
       "            <th>Total_Payload_Mass</th>\n",
       "        </tr>\n",
       "    </thead>\n",
       "    <tbody>\n",
       "        <tr>\n",
       "            <td>48213</td>\n",
       "        </tr>\n",
       "    </tbody>\n",
       "</table>"
      ],
      "text/plain": [
       "[(48213,)]"
      ]
     },
     "execution_count": 15,
     "metadata": {},
     "output_type": "execute_result"
    }
   ],
   "source": [
    "%sql SELECT SUM(PAYLOAD_MASS__KG_) AS Total_Payload_Mass FROM SPACEXTABLE WHERE Customer LIKE '%NASA (CRS)%';"
   ]
  },
  {
   "cell_type": "markdown",
   "metadata": {},
   "source": [
    "### Task 4\n",
    "\n",
    "\n",
    "\n",
    "\n",
    "##### Display average payload mass carried by booster version F9 v1.1\n"
   ]
  },
  {
   "cell_type": "code",
   "execution_count": 19,
   "metadata": {},
   "outputs": [
    {
     "name": "stdout",
     "output_type": "stream",
     "text": [
      " * sqlite:///my_data1.db\n",
      "Done.\n"
     ]
    },
    {
     "data": {
      "text/html": [
       "<table>\n",
       "    <thead>\n",
       "        <tr>\n",
       "            <th>AVG(PAYLOAD_MASS__KG_)</th>\n",
       "        </tr>\n",
       "    </thead>\n",
       "    <tbody>\n",
       "        <tr>\n",
       "            <td>2534.6666666666665</td>\n",
       "        </tr>\n",
       "    </tbody>\n",
       "</table>"
      ],
      "text/plain": [
       "[(2534.6666666666665,)]"
      ]
     },
     "execution_count": 19,
     "metadata": {},
     "output_type": "execute_result"
    }
   ],
   "source": [
    "%sql select AVG(PAYLOAD_MASS__KG_) from SPACEXTABLE where Booster_Version like '%F9 v1.1%'"
   ]
  },
  {
   "cell_type": "markdown",
   "metadata": {},
   "source": [
    "### Task 5\n",
    "\n",
    "##### List the date when the first succesful landing outcome in ground pad was acheived.\n",
    "\n",
    "\n",
    "_Hint:Use min function_ \n"
   ]
  },
  {
   "cell_type": "code",
   "execution_count": 24,
   "metadata": {},
   "outputs": [
    {
     "name": "stdout",
     "output_type": "stream",
     "text": [
      " * sqlite:///my_data1.db\n",
      "Done.\n"
     ]
    },
    {
     "data": {
      "text/html": [
       "<table>\n",
       "    <thead>\n",
       "        <tr>\n",
       "            <th>Date</th>\n",
       "        </tr>\n",
       "    </thead>\n",
       "    <tbody>\n",
       "        <tr>\n",
       "            <td>2018-07-22</td>\n",
       "        </tr>\n",
       "    </tbody>\n",
       "</table>"
      ],
      "text/plain": [
       "[('2018-07-22',)]"
      ]
     },
     "execution_count": 24,
     "metadata": {},
     "output_type": "execute_result"
    }
   ],
   "source": [
    "%sql select Date from SPACEXTABLE where Landing_Outcome = 'Success' order by Date limit 1;"
   ]
  },
  {
   "cell_type": "markdown",
   "metadata": {},
   "source": [
    "### Task 6\n",
    "\n",
    "##### List the names of the boosters which have success in drone ship and have payload mass greater than 4000 but less than 6000\n"
   ]
  },
  {
   "cell_type": "code",
   "execution_count": 26,
   "metadata": {},
   "outputs": [
    {
     "name": "stdout",
     "output_type": "stream",
     "text": [
      " * sqlite:///my_data1.db\n",
      "Done.\n"
     ]
    },
    {
     "data": {
      "text/html": [
       "<table>\n",
       "    <thead>\n",
       "        <tr>\n",
       "            <th>Payload</th>\n",
       "        </tr>\n",
       "    </thead>\n",
       "    <tbody>\n",
       "        <tr>\n",
       "            <td>AsiaSat 8</td>\n",
       "        </tr>\n",
       "        <tr>\n",
       "            <td>AsiaSat 6</td>\n",
       "        </tr>\n",
       "        <tr>\n",
       "            <td>ABS-3A Eutelsat 115 West B</td>\n",
       "        </tr>\n",
       "        <tr>\n",
       "            <td>Turkmen 52 / MonacoSAT</td>\n",
       "        </tr>\n",
       "        <tr>\n",
       "            <td>SES-9</td>\n",
       "        </tr>\n",
       "        <tr>\n",
       "            <td>JCSAT-14</td>\n",
       "        </tr>\n",
       "        <tr>\n",
       "            <td>JCSAT-16</td>\n",
       "        </tr>\n",
       "        <tr>\n",
       "            <td>EchoStar 23</td>\n",
       "        </tr>\n",
       "        <tr>\n",
       "            <td>SES-10</td>\n",
       "        </tr>\n",
       "        <tr>\n",
       "            <td>NROL-76</td>\n",
       "        </tr>\n",
       "        <tr>\n",
       "            <td>Boeing X-37B OTV-5</td>\n",
       "        </tr>\n",
       "        <tr>\n",
       "            <td>SES-11 / EchoStar 105</td>\n",
       "        </tr>\n",
       "        <tr>\n",
       "            <td>GovSat-1 / SES-16</td>\n",
       "        </tr>\n",
       "        <tr>\n",
       "            <td>SES-12</td>\n",
       "        </tr>\n",
       "        <tr>\n",
       "            <td>Merah Putih </td>\n",
       "        </tr>\n",
       "        <tr>\n",
       "            <td>Es hail 2</td>\n",
       "        </tr>\n",
       "        <tr>\n",
       "            <td>Nusantara Satu, Beresheet Moon lander, S5</td>\n",
       "        </tr>\n",
       "        <tr>\n",
       "            <td>RADARSAT Constellation, SpaceX CRS-18 </td>\n",
       "        </tr>\n",
       "        <tr>\n",
       "            <td>GPS III-03, ANASIS-II</td>\n",
       "        </tr>\n",
       "        <tr>\n",
       "            <td>ANASIS-II, Starlink 9 v1.0</td>\n",
       "        </tr>\n",
       "        <tr>\n",
       "            <td>GPS III-04 , Crew-1</td>\n",
       "        </tr>\n",
       "    </tbody>\n",
       "</table>"
      ],
      "text/plain": [
       "[('AsiaSat 8',),\n",
       " ('AsiaSat 6',),\n",
       " ('ABS-3A Eutelsat 115 West B',),\n",
       " ('Turkmen 52 / MonacoSAT',),\n",
       " ('SES-9',),\n",
       " ('JCSAT-14',),\n",
       " ('JCSAT-16',),\n",
       " ('EchoStar 23',),\n",
       " ('SES-10',),\n",
       " ('NROL-76',),\n",
       " ('Boeing X-37B OTV-5',),\n",
       " ('SES-11 / EchoStar 105',),\n",
       " ('GovSat-1 / SES-16',),\n",
       " ('SES-12',),\n",
       " ('Merah Putih ',),\n",
       " ('Es hail 2',),\n",
       " ('Nusantara Satu, Beresheet Moon lander, S5',),\n",
       " ('RADARSAT Constellation, SpaceX CRS-18 ',),\n",
       " ('GPS III-03, ANASIS-II',),\n",
       " ('ANASIS-II, Starlink 9 v1.0',),\n",
       " ('GPS III-04 , Crew-1',)]"
      ]
     },
     "execution_count": 26,
     "metadata": {},
     "output_type": "execute_result"
    }
   ],
   "source": [
    "%sql select Payload from SPACEXTABLE where Mission_Outcome = 'Success' and PAYLOAD_MASS__KG_ > 4000 and PAYLOAD_MASS__KG_ < 6000"
   ]
  },
  {
   "cell_type": "markdown",
   "metadata": {},
   "source": [
    "### Task 7\n",
    "\n",
    "\n",
    "\n",
    "\n",
    "##### List the total number of successful and failure mission outcomes\n"
   ]
  },
  {
   "cell_type": "code",
   "execution_count": 28,
   "metadata": {},
   "outputs": [
    {
     "name": "stdout",
     "output_type": "stream",
     "text": [
      " * sqlite:///my_data1.db\n",
      "Done.\n"
     ]
    },
    {
     "data": {
      "text/html": [
       "<table>\n",
       "    <thead>\n",
       "        <tr>\n",
       "            <th>Mission_Outcome</th>\n",
       "            <th>count(Mission_Outcome)</th>\n",
       "        </tr>\n",
       "    </thead>\n",
       "    <tbody>\n",
       "        <tr>\n",
       "            <td>Failure (in flight)</td>\n",
       "            <td>1</td>\n",
       "        </tr>\n",
       "        <tr>\n",
       "            <td>Success</td>\n",
       "            <td>98</td>\n",
       "        </tr>\n",
       "        <tr>\n",
       "            <td>Success </td>\n",
       "            <td>1</td>\n",
       "        </tr>\n",
       "        <tr>\n",
       "            <td>Success (payload status unclear)</td>\n",
       "            <td>1</td>\n",
       "        </tr>\n",
       "    </tbody>\n",
       "</table>"
      ],
      "text/plain": [
       "[('Failure (in flight)', 1),\n",
       " ('Success', 98),\n",
       " ('Success ', 1),\n",
       " ('Success (payload status unclear)', 1)]"
      ]
     },
     "execution_count": 28,
     "metadata": {},
     "output_type": "execute_result"
    }
   ],
   "source": [
    "%sql select Mission_Outcome, count(Mission_Outcome) from SPACEXTABLE group by Mission_Outcome"
   ]
  },
  {
   "cell_type": "markdown",
   "metadata": {},
   "source": [
    "### Task 8\n",
    "\n",
    "\n",
    "\n",
    "##### List the   names of the booster_versions which have carried the maximum payload mass. Use a subquery\n"
   ]
  },
  {
   "cell_type": "code",
   "execution_count": 29,
   "metadata": {},
   "outputs": [
    {
     "name": "stdout",
     "output_type": "stream",
     "text": [
      " * sqlite:///my_data1.db\n",
      "Done.\n"
     ]
    },
    {
     "data": {
      "text/html": [
       "<table>\n",
       "    <thead>\n",
       "        <tr>\n",
       "            <th>Booster_Version</th>\n",
       "        </tr>\n",
       "    </thead>\n",
       "    <tbody>\n",
       "        <tr>\n",
       "            <td>F9 B5 B1048.4</td>\n",
       "        </tr>\n",
       "        <tr>\n",
       "            <td>F9 B5 B1049.4</td>\n",
       "        </tr>\n",
       "        <tr>\n",
       "            <td>F9 B5 B1051.3</td>\n",
       "        </tr>\n",
       "        <tr>\n",
       "            <td>F9 B5 B1056.4</td>\n",
       "        </tr>\n",
       "        <tr>\n",
       "            <td>F9 B5 B1048.5</td>\n",
       "        </tr>\n",
       "        <tr>\n",
       "            <td>F9 B5 B1051.4</td>\n",
       "        </tr>\n",
       "        <tr>\n",
       "            <td>F9 B5 B1049.5</td>\n",
       "        </tr>\n",
       "        <tr>\n",
       "            <td>F9 B5 B1060.2 </td>\n",
       "        </tr>\n",
       "        <tr>\n",
       "            <td>F9 B5 B1058.3 </td>\n",
       "        </tr>\n",
       "        <tr>\n",
       "            <td>F9 B5 B1051.6</td>\n",
       "        </tr>\n",
       "        <tr>\n",
       "            <td>F9 B5 B1060.3</td>\n",
       "        </tr>\n",
       "        <tr>\n",
       "            <td>F9 B5 B1049.7 </td>\n",
       "        </tr>\n",
       "    </tbody>\n",
       "</table>"
      ],
      "text/plain": [
       "[('F9 B5 B1048.4',),\n",
       " ('F9 B5 B1049.4',),\n",
       " ('F9 B5 B1051.3',),\n",
       " ('F9 B5 B1056.4',),\n",
       " ('F9 B5 B1048.5',),\n",
       " ('F9 B5 B1051.4',),\n",
       " ('F9 B5 B1049.5',),\n",
       " ('F9 B5 B1060.2 ',),\n",
       " ('F9 B5 B1058.3 ',),\n",
       " ('F9 B5 B1051.6',),\n",
       " ('F9 B5 B1060.3',),\n",
       " ('F9 B5 B1049.7 ',)]"
      ]
     },
     "execution_count": 29,
     "metadata": {},
     "output_type": "execute_result"
    }
   ],
   "source": [
    "%sql select Booster_Version from SPACEXTABLE where PAYLOAD_MASS__KG_ = (select max(PAYLOAD_MASS__KG_) from SPACEXTABLE)"
   ]
  },
  {
   "cell_type": "markdown",
   "metadata": {},
   "source": [
    "### Task 9\n",
    "\n",
    "\n",
    "##### List the records which will display the month names, failure landing_outcomes in drone ship ,booster versions, launch_site for the months in year 2015.\n",
    "\n",
    "**Note: SQLLite does not support monthnames. So you need to use  substr(Date, 6,2) as month to get the months and substr(Date,0,5)='2015' for year.**\n"
   ]
  },
  {
   "cell_type": "code",
   "execution_count": 35,
   "metadata": {},
   "outputs": [
    {
     "name": "stdout",
     "output_type": "stream",
     "text": [
      " * sqlite:///my_data1.db\n",
      "Done.\n"
     ]
    },
    {
     "data": {
      "text/html": [
       "<table>\n",
       "    <thead>\n",
       "        <tr>\n",
       "            <th>Month</th>\n",
       "            <th>Landing_Outcome</th>\n",
       "            <th>Booster_Version</th>\n",
       "            <th>Launch_Site</th>\n",
       "        </tr>\n",
       "    </thead>\n",
       "    <tbody>\n",
       "        <tr>\n",
       "            <td>01</td>\n",
       "            <td>Failure (drone ship)</td>\n",
       "            <td>F9 v1.1 B1012</td>\n",
       "            <td>CCAFS LC-40</td>\n",
       "        </tr>\n",
       "        <tr>\n",
       "            <td>04</td>\n",
       "            <td>Failure (drone ship)</td>\n",
       "            <td>F9 v1.1 B1015</td>\n",
       "            <td>CCAFS LC-40</td>\n",
       "        </tr>\n",
       "    </tbody>\n",
       "</table>"
      ],
      "text/plain": [
       "[('01', 'Failure (drone ship)', 'F9 v1.1 B1012', 'CCAFS LC-40'),\n",
       " ('04', 'Failure (drone ship)', 'F9 v1.1 B1015', 'CCAFS LC-40')]"
      ]
     },
     "execution_count": 35,
     "metadata": {},
     "output_type": "execute_result"
    }
   ],
   "source": [
    "%%sql \n",
    "select substr(Date, 6, 2) as Month, Landing_Outcome, Booster_Version, Launch_Site \n",
    "from SPACEXTABLE\n",
    "where \n",
    "    Landing_Outcome like \"%Failure%\" and\n",
    "    substr(Date, 0, 5) = '2015'"
   ]
  },
  {
   "cell_type": "markdown",
   "metadata": {},
   "source": [
    "### Task 10\n",
    "\n",
    "\n",
    "\n",
    "\n",
    "##### Rank the count of landing outcomes (such as Failure (drone ship) or Success (ground pad)) between the date 2010-06-04 and 2017-03-20, in descending order.\n"
   ]
  },
  {
   "cell_type": "code",
   "execution_count": 36,
   "metadata": {},
   "outputs": [
    {
     "name": "stdout",
     "output_type": "stream",
     "text": [
      " * sqlite:///my_data1.db\n",
      "Done.\n"
     ]
    },
    {
     "data": {
      "text/html": [
       "<table>\n",
       "    <thead>\n",
       "        <tr>\n",
       "            <th>Landing_Outcome</th>\n",
       "            <th>Outcome_Count</th>\n",
       "        </tr>\n",
       "    </thead>\n",
       "    <tbody>\n",
       "        <tr>\n",
       "            <td>No attempt</td>\n",
       "            <td>10</td>\n",
       "        </tr>\n",
       "        <tr>\n",
       "            <td>Success (drone ship)</td>\n",
       "            <td>5</td>\n",
       "        </tr>\n",
       "        <tr>\n",
       "            <td>Failure (drone ship)</td>\n",
       "            <td>5</td>\n",
       "        </tr>\n",
       "        <tr>\n",
       "            <td>Success (ground pad)</td>\n",
       "            <td>3</td>\n",
       "        </tr>\n",
       "        <tr>\n",
       "            <td>Controlled (ocean)</td>\n",
       "            <td>3</td>\n",
       "        </tr>\n",
       "        <tr>\n",
       "            <td>Uncontrolled (ocean)</td>\n",
       "            <td>2</td>\n",
       "        </tr>\n",
       "        <tr>\n",
       "            <td>Failure (parachute)</td>\n",
       "            <td>2</td>\n",
       "        </tr>\n",
       "        <tr>\n",
       "            <td>Precluded (drone ship)</td>\n",
       "            <td>1</td>\n",
       "        </tr>\n",
       "    </tbody>\n",
       "</table>"
      ],
      "text/plain": [
       "[('No attempt', 10),\n",
       " ('Success (drone ship)', 5),\n",
       " ('Failure (drone ship)', 5),\n",
       " ('Success (ground pad)', 3),\n",
       " ('Controlled (ocean)', 3),\n",
       " ('Uncontrolled (ocean)', 2),\n",
       " ('Failure (parachute)', 2),\n",
       " ('Precluded (drone ship)', 1)]"
      ]
     },
     "execution_count": 36,
     "metadata": {},
     "output_type": "execute_result"
    }
   ],
   "source": [
    "%sql SELECT Landing_Outcome, COUNT(*) as Outcome_Count FROM SPACEXTABLE WHERE Date BETWEEN '2010-06-04' AND '2017-03-20' GROUP BY Landing_Outcome ORDER BY Outcome_Count DESC;"
   ]
  },
  {
   "cell_type": "markdown",
   "metadata": {},
   "source": [
    "Close connexion "
   ]
  },
  {
   "cell_type": "code",
   "execution_count": 37,
   "metadata": {},
   "outputs": [],
   "source": [
    "# close connexion\n",
    "cur.close()\n",
    "con.close()\n"
   ]
  },
  {
   "cell_type": "markdown",
   "metadata": {},
   "source": [
    "### Reference Links\n",
    "\n",
    "* <a href =\"https://cf-courses-data.s3.us.cloud-object-storage.appdomain.cloud/IBMDeveloperSkillsNetwork-DB0201EN-SkillsNetwork/labs/Labs_Coursera_V5/labs/Lab%20-%20String%20Patterns%20-%20Sorting%20-%20Grouping/instructional-labs.md.html?origin=www.coursera.org\">Hands-on Lab : String Patterns, Sorting and Grouping</a>  \n",
    "\n",
    "*  <a  href=\"https://cf-courses-data.s3.us.cloud-object-storage.appdomain.cloud/IBMDeveloperSkillsNetwork-DB0201EN-SkillsNetwork/labs/Labs_Coursera_V5/labs/Lab%20-%20Built-in%20functions%20/Hands-on_Lab__Built-in_Functions.md.html?origin=www.coursera.org\">Hands-on Lab: Built-in functions</a>\n",
    "\n",
    "*  <a  href=\"https://cf-courses-data.s3.us.cloud-object-storage.appdomain.cloud/IBMDeveloperSkillsNetwork-DB0201EN-SkillsNetwork/labs/Labs_Coursera_V5/labs/Lab%20-%20Sub-queries%20and%20Nested%20SELECTs%20/instructional-labs.md.html?origin=www.coursera.org\">Hands-on Lab : Sub-queries and Nested SELECT Statements</a>\n",
    "\n",
    "*   <a href=\"https://cf-courses-data.s3.us.cloud-object-storage.appdomain.cloud/IBMDeveloperSkillsNetwork-DB0201EN-SkillsNetwork/labs/Module%205/DB0201EN-Week3-1-3-SQLmagic.ipynb\">Hands-on Tutorial: Accessing Databases with SQL magic</a>\n",
    "\n",
    "*  <a href= \"https://cf-courses-data.s3.us.cloud-object-storage.appdomain.cloud/IBMDeveloperSkillsNetwork-DB0201EN-SkillsNetwork/labs/Module%205/DB0201EN-Week3-1-4-Analyzing.ipynb\">Hands-on Lab: Analyzing a real World Data Set</a>\n",
    "\n",
    "\n"
   ]
  },
  {
   "cell_type": "markdown",
   "metadata": {},
   "source": [
    "## Author(s)\n",
    "\n",
    "<h4> Lakshmi Holla </h4>\n"
   ]
  },
  {
   "cell_type": "markdown",
   "metadata": {},
   "source": [
    "## Other Contributors\n",
    "\n",
    "<h4> Rav Ahuja </h4>\n"
   ]
  },
  {
   "cell_type": "markdown",
   "metadata": {},
   "source": [
    "<!--\n",
    "## Change log\n",
    "| Date | Version | Changed by | Change Description |\n",
    "|------|--------|--------|---------|\n",
    "| 2024-07-10 | 1.1 |Anita Verma | Changed Version|\n",
    "| 2021-07-09 | 0.2 |Lakshmi Holla | Changes made in magic sql|\n",
    "| 2021-05-20 | 0.1 |Lakshmi Holla | Created Initial Version |\n",
    "-->\n"
   ]
  },
  {
   "cell_type": "markdown",
   "metadata": {},
   "source": [
    "## <h3 align=\"center\"> © IBM Corporation 2021. All rights reserved. <h3/>\n"
   ]
  }
 ],
 "metadata": {
  "kernelspec": {
   "display_name": "base",
   "language": "python",
   "name": "python3"
  },
  "language_info": {
   "codemirror_mode": {
    "name": "ipython",
    "version": 3
   },
   "file_extension": ".py",
   "mimetype": "text/x-python",
   "name": "python",
   "nbconvert_exporter": "python",
   "pygments_lexer": "ipython3",
   "version": "3.12.7"
  },
  "prev_pub_hash": "da902c2e8070fbe82a1211fe564834ebcb50f7fc45ad4040b3068861f12c70b8"
 },
 "nbformat": 4,
 "nbformat_minor": 4
}
